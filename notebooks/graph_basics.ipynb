{
 "cells": [
  {
   "cell_type": "markdown",
   "metadata": {},
   "source": [
    "# Introduction\n",
    "\n",
    "At the core, a graph is composed of nodes and edges. An edge connects two nodes. Nodes themselves may have attributes, and edges may have directionality (i.e. only from one node to another) or weight. The challenge with graphs is probably less so drawing them by hand or thinking about them, but rather, representing them for calculations in a computer.\n",
    "\n",
    "Note that the picture we may have in our brains about \"what makes sense\" in graphs may not make perfect sense in a computer. For example, when I think about an edge, I think of a bidirectional edge for two nodes. But think of the implemnation in a computer - would it be easier to come up with rules for how to traverse an edge between two nodes so that one edge could be bidirectional or monodirectional, or, could we simply just make all edges under the hood be mono-directional, and implement bidirectional edges with two monodirectional edges?\n",
    "\n",
    "Then, consider we wanted to visualize a fully connected graph with bidirectional edges. Do we draw two monodirectional edges with arrows to indicate direction, or, do we color-code by edge type?\n",
    "\n",
    "I think the most basic representation should use the more simple approach, leaving the \"human-layer\" for last.\n",
    "\n",
    "<img src=\"notebooks/img/small_undirected_network_labeled.png\" border=10 width=50% style=\"background-color:#CDCDCD;border-color:#CDCDCD;\"></img>"
   ]
  },
  {
   "cell_type": "markdown",
   "metadata": {},
   "source": [
    "# Representation\n",
    "\n",
    "There are two main representations of graphs: an adjacency list, and an adjacency matrix.\n",
    "\n",
    "An adjacency list is represented in the following way:\n",
    "\n",
    "- each index in the list maps to a node\n",
    "- the list is populated with adjacent nodes\n",
    "- the links in the list represent the directionality of the connection\n",
    "\n",
    "The adjacency matrix is represented in the following way:\n",
    "\n",
    "- The row indices of the matrix and the column indices of the matrix represent nodes\n",
    "- The entries of the matrix represent a connection between two nodes and are one or zero.\n",
    "- Therefore, for any element in the matrix, element i,j represents \"connection from i to j\".\n",
    "\n",
    "Adjacency matrices offer the most efficient operations, while adjacency lists are most space efficient. I also think that adjacency lists might lend themselves to a data structure that can be fed into an algorithm a bit better, since the links between the list elements have semantic meaning, whereas for the matrix representation, one has to keep track of index math to do graph computation.\n",
    "\n",
    "## Representation specifics\n",
    "\n",
    "I would like for nodes on graphs to be generalizable - e.g. have potentially a name, a value, etc. I would like edges to have a weight property. Nodes might have multiple edges to the same node. I need to think about what properties the graph representation needs to have to be the most generalizable."
   ]
  },
  {
   "cell_type": "code",
   "execution_count": null,
   "metadata": {},
   "outputs": [],
   "source": [
    "class Node:\n",
    "    def __init__(self):\n",
    "        "
   ]
  }
 ],
 "metadata": {
  "kernelspec": {
   "display_name": "Python 3",
   "language": "python",
   "name": "python3"
  },
  "language_info": {
   "codemirror_mode": {
    "name": "ipython",
    "version": 3
   },
   "file_extension": ".py",
   "mimetype": "text/x-python",
   "name": "python",
   "nbconvert_exporter": "python",
   "pygments_lexer": "ipython3",
   "version": "3.7.4"
  }
 },
 "nbformat": 4,
 "nbformat_minor": 4
}
